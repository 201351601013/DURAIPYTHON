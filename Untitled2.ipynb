{
  "nbformat": 4,
  "nbformat_minor": 0,
  "metadata": {
    "colab": {
      "name": "Untitled2.ipynb",
      "provenance": [],
      "authorship_tag": "ABX9TyOpav5sWvVGR6Tig4Jhm9S3",
      "include_colab_link": true
    },
    "kernelspec": {
      "name": "python3",
      "display_name": "Python 3"
    },
    "language_info": {
      "name": "python"
    }
  },
  "cells": [
    {
      "cell_type": "markdown",
      "metadata": {
        "id": "view-in-github",
        "colab_type": "text"
      },
      "source": [
        "<a href=\"https://colab.research.google.com/github/201351601013/DURAIPYTHON/blob/main/Untitled2.ipynb\" target=\"_parent\"><img src=\"https://colab.research.google.com/assets/colab-badge.svg\" alt=\"Open In Colab\"/></a>"
      ]
    },
    {
      "cell_type": "code",
      "execution_count": 1,
      "metadata": {
        "colab": {
          "base_uri": "https://localhost:8080/"
        },
        "id": "mZ9QS9shRz5h",
        "outputId": "35324a52-d7ae-489b-fef9-5081a42c2f7a"
      },
      "outputs": [
        {
          "output_type": "stream",
          "name": "stdout",
          "text": [
            "choice 1:add,2:sub,3;div,4:mul,5:quit\n",
            "enter the choice of operation :3\n",
            "you have chosen division option:\n",
            "enter the value for A:30\n",
            "enter the value for B:10\n",
            "the result 30 / 10 = 3.0\n"
          ]
        }
      ],
      "source": [
        "print (\"choice 1:add,2:sub,3;div,4:mul,5:quit\")\n",
        "n1 =input(\"enter the choice of operation :\")\n",
        "n =int(n1)\n",
        "if (n==1):\n",
        "  print(\"you have chosen addition option:\")\n",
        "  a1 = input(\"enter the value for A:\")\n",
        "  b1 = input(\"enter the value for B:\")\n",
        "  a =int(a1) \n",
        "  b =int(b1)\n",
        "  c = a+b\n",
        "  print(\"the result\",a,\"+\",b,\"=\",c)\n",
        "elif (n==2):\n",
        "  print(\"you have chosen subtraction option:\")\n",
        "  a1 = input(\"enter the value for A:\")\n",
        "  b1 = input(\"enter the value for B:\")\n",
        "  a =int(a1) \n",
        "  b =int(b1)\n",
        "  c = a-b\n",
        "  print(\"the result\",a,\"-\",b,\"=\",c)\n",
        "elif (n==3):\n",
        "  print(\"you have chosen division option:\")\n",
        "  a1 = input(\"enter the value for A:\")\n",
        "  b1 = input(\"enter the value for B:\")\n",
        "  a =int(a1) \n",
        "  b =int(b1)\n",
        "  c = a/b\n",
        "  print(\"the result\",a,\"/\",b,\"=\",c)\n",
        "elif (n==4):\n",
        "  print(\"you have chosen multiplication option:\")\n",
        "  a1 = input(\"enter the value for A:\")\n",
        "  b1 = input(\"enter the value for B:\")\n",
        "  a =int(a1) \n",
        "  b =int(b1)\n",
        "  c = a*b\n",
        "  print(\"the result\",a,\"*\",b,\"=\",c)\n",
        "elif (n==5):\n",
        "    print(\"you have given a wrong:\",n)\n",
        "    exit()"
      ]
    }
  ]
}